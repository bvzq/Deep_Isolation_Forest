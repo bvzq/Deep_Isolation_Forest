{
 "cells": [
  {
   "cell_type": "code",
   "execution_count": 4,
   "id": "e060e8a9",
   "metadata": {
    "collapsed": true
   },
   "outputs": [
    {
     "name": "stdout",
     "output_type": "stream",
     "text": [
      "Collecting torch_geometric\n",
      "  Downloading torch_geometric-2.6.1-py3-none-any.whl (1.1 MB)\n",
      "     ---------------------------------------- 1.1/1.1 MB 23.9 MB/s eta 0:00:00\n",
      "Requirement already satisfied: pyparsing in c:\\users\\bvazq\\anaconda3\\lib\\site-packages (from torch_geometric) (3.0.9)\n",
      "Requirement already satisfied: requests in c:\\users\\bvazq\\anaconda3\\lib\\site-packages (from torch_geometric) (2.31.0)\n",
      "Requirement already satisfied: psutil>=5.8.0 in c:\\users\\bvazq\\appdata\\roaming\\python\\python39\\site-packages (from torch_geometric) (5.9.0)\n",
      "Requirement already satisfied: fsspec in c:\\users\\bvazq\\anaconda3\\lib\\site-packages (from torch_geometric) (2023.12.2)\n",
      "Requirement already satisfied: jinja2 in c:\\users\\bvazq\\anaconda3\\lib\\site-packages (from torch_geometric) (2.11.3)\n",
      "Requirement already satisfied: tqdm in c:\\users\\bvazq\\anaconda3\\lib\\site-packages (from torch_geometric) (4.64.1)\n",
      "Requirement already satisfied: numpy in c:\\users\\bvazq\\appdata\\roaming\\python\\python39\\site-packages (from torch_geometric) (1.21.6)\n",
      "Collecting aiohttp\n",
      "  Downloading aiohttp-3.10.10-cp39-cp39-win_amd64.whl (381 kB)\n",
      "     ------------------------------------- 381.8/381.8 kB 24.8 MB/s eta 0:00:00\n",
      "Collecting async-timeout<5.0,>=4.0\n",
      "  Downloading async_timeout-4.0.3-py3-none-any.whl (5.7 kB)\n",
      "Requirement already satisfied: attrs>=17.3.0 in c:\\users\\bvazq\\anaconda3\\lib\\site-packages (from aiohttp->torch_geometric) (21.4.0)\n",
      "Collecting multidict<7.0,>=4.5\n",
      "  Downloading multidict-6.1.0-cp39-cp39-win_amd64.whl (28 kB)\n",
      "Collecting frozenlist>=1.1.1\n",
      "  Downloading frozenlist-1.5.0-cp39-cp39-win_amd64.whl (51 kB)\n",
      "     ---------------------------------------- 51.8/51.8 kB ? eta 0:00:00\n",
      "Collecting yarl<2.0,>=1.12.0\n",
      "  Downloading yarl-1.17.1-cp39-cp39-win_amd64.whl (90 kB)\n",
      "     ---------------------------------------- 90.2/90.2 kB ? eta 0:00:00\n",
      "Collecting aiosignal>=1.1.2\n",
      "  Downloading aiosignal-1.3.1-py3-none-any.whl (7.6 kB)\n",
      "Collecting aiohappyeyeballs>=2.3.0\n",
      "  Downloading aiohappyeyeballs-2.4.3-py3-none-any.whl (14 kB)\n",
      "Requirement already satisfied: MarkupSafe>=0.23 in c:\\users\\bvazq\\anaconda3\\lib\\site-packages (from jinja2->torch_geometric) (2.0.1)\n",
      "Requirement already satisfied: idna<4,>=2.5 in c:\\users\\bvazq\\anaconda3\\lib\\site-packages (from requests->torch_geometric) (3.6)\n",
      "Requirement already satisfied: urllib3<3,>=1.21.1 in c:\\users\\bvazq\\anaconda3\\lib\\site-packages (from requests->torch_geometric) (2.1.0)\n",
      "Requirement already satisfied: certifi>=2017.4.17 in c:\\users\\bvazq\\anaconda3\\lib\\site-packages (from requests->torch_geometric) (2023.11.17)\n",
      "Requirement already satisfied: charset-normalizer<4,>=2 in c:\\users\\bvazq\\anaconda3\\lib\\site-packages (from requests->torch_geometric) (2.0.4)\n",
      "Requirement already satisfied: colorama in c:\\users\\bvazq\\anaconda3\\lib\\site-packages (from tqdm->torch_geometric) (0.4.5)\n",
      "Requirement already satisfied: typing-extensions>=4.1.0 in c:\\users\\bvazq\\anaconda3\\lib\\site-packages (from multidict<7.0,>=4.5->aiohttp->torch_geometric) (4.8.0)\n",
      "Collecting propcache>=0.2.0\n",
      "  Downloading propcache-0.2.0-cp39-cp39-win_amd64.whl (45 kB)\n",
      "     ---------------------------------------- 45.6/45.6 kB 2.2 MB/s eta 0:00:00\n",
      "Installing collected packages: propcache, multidict, frozenlist, async-timeout, aiohappyeyeballs, yarl, aiosignal, aiohttp, torch_geometric\n",
      "Successfully installed aiohappyeyeballs-2.4.3 aiohttp-3.10.10 aiosignal-1.3.1 async-timeout-4.0.3 frozenlist-1.5.0 multidict-6.1.0 propcache-0.2.0 torch_geometric-2.6.1 yarl-1.17.1\n"
     ]
    },
    {
     "name": "stderr",
     "output_type": "stream",
     "text": [
      "WARNING: Ignoring invalid distribution -rotobuf (c:\\users\\bvazq\\anaconda3\\lib\\site-packages)\n",
      "WARNING: Ignoring invalid distribution -rotobuf (c:\\users\\bvazq\\anaconda3\\lib\\site-packages)\n",
      "WARNING: Ignoring invalid distribution -rotobuf (c:\\users\\bvazq\\anaconda3\\lib\\site-packages)\n",
      "WARNING: Ignoring invalid distribution -rotobuf (c:\\users\\bvazq\\anaconda3\\lib\\site-packages)\n",
      "WARNING: Ignoring invalid distribution -rotobuf (c:\\users\\bvazq\\anaconda3\\lib\\site-packages)\n",
      "WARNING: Ignoring invalid distribution -rotobuf (c:\\users\\bvazq\\anaconda3\\lib\\site-packages)\n",
      "WARNING: Ignoring invalid distribution -rotobuf (c:\\users\\bvazq\\anaconda3\\lib\\site-packages)\n",
      "WARNING: Ignoring invalid distribution -rotobuf (c:\\users\\bvazq\\anaconda3\\lib\\site-packages)\n",
      "WARNING: Ignoring invalid distribution -rotobuf (c:\\users\\bvazq\\anaconda3\\lib\\site-packages)\n",
      "WARNING: Ignoring invalid distribution -rotobuf (c:\\users\\bvazq\\anaconda3\\lib\\site-packages)\n",
      "WARNING: Ignoring invalid distribution -rotobuf (c:\\users\\bvazq\\anaconda3\\lib\\site-packages)\n",
      "WARNING: Ignoring invalid distribution -rotobuf (c:\\users\\bvazq\\anaconda3\\lib\\site-packages)\n",
      "WARNING: Ignoring invalid distribution -rotobuf (c:\\users\\bvazq\\anaconda3\\lib\\site-packages)\n",
      "WARNING: Ignoring invalid distribution -rotobuf (c:\\users\\bvazq\\anaconda3\\lib\\site-packages)\n",
      "WARNING: Ignoring invalid distribution -rotobuf (c:\\users\\bvazq\\anaconda3\\lib\\site-packages)\n"
     ]
    }
   ],
   "source": [
    "# !pip install torch_geometric\n"
   ]
  },
  {
   "cell_type": "code",
   "execution_count": 4,
   "id": "2a9fd784",
   "metadata": {},
   "outputs": [],
   "source": [
    "from algorithms.dif import DIF\n",
    "\n",
    "import pandas as pd\n",
    "from sklearn.model_selection import train_test_split\n"
   ]
  },
  {
   "cell_type": "markdown",
   "id": "f219170b",
   "metadata": {},
   "source": [
    "# Import data"
   ]
  },
  {
   "cell_type": "code",
   "execution_count": 19,
   "id": "08e24ae5",
   "metadata": {},
   "outputs": [],
   "source": [
    "X_train = pd.read_csv('./data/ts/UCR_natural/157_TkeepFirstMARS/157_TkeepFirstMARS_train.csv', sep = ',')\n",
    "X_test = pd.read_csv('./data/ts/UCR_natural/157_TkeepFirstMARS/157_TkeepFirstMARS_test.csv', sep = ',')\n"
   ]
  },
  {
   "cell_type": "code",
   "execution_count": 20,
   "id": "36d2d65d",
   "metadata": {},
   "outputs": [],
   "source": [
    "X_train = X_train.values\n",
    "X_test = X_test.values"
   ]
  },
  {
   "cell_type": "code",
   "execution_count": 14,
   "id": "f700a73c",
   "metadata": {
    "collapsed": true
   },
   "outputs": [
    {
     "data": {
      "text/html": [
       "<div>\n",
       "<style scoped>\n",
       "    .dataframe tbody tr th:only-of-type {\n",
       "        vertical-align: middle;\n",
       "    }\n",
       "\n",
       "    .dataframe tbody tr th {\n",
       "        vertical-align: top;\n",
       "    }\n",
       "\n",
       "    .dataframe thead th {\n",
       "        text-align: right;\n",
       "    }\n",
       "</style>\n",
       "<table border=\"1\" class=\"dataframe\">\n",
       "  <thead>\n",
       "    <tr style=\"text-align: right;\">\n",
       "      <th></th>\n",
       "      <th>att1</th>\n",
       "      <th>att2</th>\n",
       "      <th>att3</th>\n",
       "      <th>att4</th>\n",
       "      <th>att5</th>\n",
       "      <th>att6</th>\n",
       "      <th>att7</th>\n",
       "      <th>att8</th>\n",
       "      <th>att9</th>\n",
       "      <th>label</th>\n",
       "    </tr>\n",
       "  </thead>\n",
       "  <tbody>\n",
       "    <tr>\n",
       "      <th>0</th>\n",
       "      <td>0.214286</td>\n",
       "      <td>0.607955</td>\n",
       "      <td>0.127660</td>\n",
       "      <td>0.020145</td>\n",
       "      <td>0.207865</td>\n",
       "      <td>0.088428</td>\n",
       "      <td>0.347222</td>\n",
       "      <td>0.746875</td>\n",
       "      <td>0.737113</td>\n",
       "      <td>1</td>\n",
       "    </tr>\n",
       "    <tr>\n",
       "      <th>1</th>\n",
       "      <td>0.085714</td>\n",
       "      <td>0.607955</td>\n",
       "      <td>0.127660</td>\n",
       "      <td>0.020145</td>\n",
       "      <td>0.207865</td>\n",
       "      <td>0.088428</td>\n",
       "      <td>0.458333</td>\n",
       "      <td>0.746875</td>\n",
       "      <td>0.716495</td>\n",
       "      <td>1</td>\n",
       "    </tr>\n",
       "    <tr>\n",
       "      <th>2</th>\n",
       "      <td>0.200000</td>\n",
       "      <td>0.607955</td>\n",
       "      <td>0.127660</td>\n",
       "      <td>0.020145</td>\n",
       "      <td>0.067416</td>\n",
       "      <td>0.088428</td>\n",
       "      <td>0.361111</td>\n",
       "      <td>0.912500</td>\n",
       "      <td>0.871134</td>\n",
       "      <td>1</td>\n",
       "    </tr>\n",
       "    <tr>\n",
       "      <th>3</th>\n",
       "      <td>0.085714</td>\n",
       "      <td>0.602273</td>\n",
       "      <td>0.127660</td>\n",
       "      <td>0.020145</td>\n",
       "      <td>0.207865</td>\n",
       "      <td>0.088428</td>\n",
       "      <td>0.472222</td>\n",
       "      <td>0.746875</td>\n",
       "      <td>0.716495</td>\n",
       "      <td>1</td>\n",
       "    </tr>\n",
       "    <tr>\n",
       "      <th>4</th>\n",
       "      <td>0.185714</td>\n",
       "      <td>0.653409</td>\n",
       "      <td>0.127660</td>\n",
       "      <td>0.020145</td>\n",
       "      <td>0.067416</td>\n",
       "      <td>0.088428</td>\n",
       "      <td>0.375000</td>\n",
       "      <td>0.912500</td>\n",
       "      <td>0.865979</td>\n",
       "      <td>1</td>\n",
       "    </tr>\n",
       "    <tr>\n",
       "      <th>...</th>\n",
       "      <td>...</td>\n",
       "      <td>...</td>\n",
       "      <td>...</td>\n",
       "      <td>...</td>\n",
       "      <td>...</td>\n",
       "      <td>...</td>\n",
       "      <td>...</td>\n",
       "      <td>...</td>\n",
       "      <td>...</td>\n",
       "      <td>...</td>\n",
       "    </tr>\n",
       "    <tr>\n",
       "      <th>1008</th>\n",
       "      <td>0.614286</td>\n",
       "      <td>0.488636</td>\n",
       "      <td>0.255319</td>\n",
       "      <td>0.020145</td>\n",
       "      <td>0.011236</td>\n",
       "      <td>0.088428</td>\n",
       "      <td>0.041667</td>\n",
       "      <td>0.990625</td>\n",
       "      <td>0.994845</td>\n",
       "      <td>0</td>\n",
       "    </tr>\n",
       "    <tr>\n",
       "      <th>1009</th>\n",
       "      <td>0.014286</td>\n",
       "      <td>0.477273</td>\n",
       "      <td>0.106383</td>\n",
       "      <td>0.018467</td>\n",
       "      <td>0.224719</td>\n",
       "      <td>0.089931</td>\n",
       "      <td>0.527778</td>\n",
       "      <td>0.728125</td>\n",
       "      <td>0.685567</td>\n",
       "      <td>0</td>\n",
       "    </tr>\n",
       "    <tr>\n",
       "      <th>1010</th>\n",
       "      <td>0.271429</td>\n",
       "      <td>0.477273</td>\n",
       "      <td>0.127660</td>\n",
       "      <td>0.020145</td>\n",
       "      <td>0.207865</td>\n",
       "      <td>0.088729</td>\n",
       "      <td>0.277778</td>\n",
       "      <td>0.746875</td>\n",
       "      <td>0.752577</td>\n",
       "      <td>0</td>\n",
       "    </tr>\n",
       "    <tr>\n",
       "      <th>1011</th>\n",
       "      <td>0.071429</td>\n",
       "      <td>0.477273</td>\n",
       "      <td>0.212766</td>\n",
       "      <td>0.020145</td>\n",
       "      <td>0.247191</td>\n",
       "      <td>0.088789</td>\n",
       "      <td>0.541667</td>\n",
       "      <td>0.721875</td>\n",
       "      <td>0.680412</td>\n",
       "      <td>0</td>\n",
       "    </tr>\n",
       "    <tr>\n",
       "      <th>1012</th>\n",
       "      <td>0.185714</td>\n",
       "      <td>0.460227</td>\n",
       "      <td>0.127660</td>\n",
       "      <td>0.020145</td>\n",
       "      <td>0.269663</td>\n",
       "      <td>0.089270</td>\n",
       "      <td>0.388889</td>\n",
       "      <td>0.684375</td>\n",
       "      <td>0.680412</td>\n",
       "      <td>0</td>\n",
       "    </tr>\n",
       "  </tbody>\n",
       "</table>\n",
       "<p>1013 rows × 10 columns</p>\n",
       "</div>"
      ],
      "text/plain": [
       "          att1      att2      att3      att4      att5      att6      att7  \\\n",
       "0     0.214286  0.607955  0.127660  0.020145  0.207865  0.088428  0.347222   \n",
       "1     0.085714  0.607955  0.127660  0.020145  0.207865  0.088428  0.458333   \n",
       "2     0.200000  0.607955  0.127660  0.020145  0.067416  0.088428  0.361111   \n",
       "3     0.085714  0.602273  0.127660  0.020145  0.207865  0.088428  0.472222   \n",
       "4     0.185714  0.653409  0.127660  0.020145  0.067416  0.088428  0.375000   \n",
       "...        ...       ...       ...       ...       ...       ...       ...   \n",
       "1008  0.614286  0.488636  0.255319  0.020145  0.011236  0.088428  0.041667   \n",
       "1009  0.014286  0.477273  0.106383  0.018467  0.224719  0.089931  0.527778   \n",
       "1010  0.271429  0.477273  0.127660  0.020145  0.207865  0.088729  0.277778   \n",
       "1011  0.071429  0.477273  0.212766  0.020145  0.247191  0.088789  0.541667   \n",
       "1012  0.185714  0.460227  0.127660  0.020145  0.269663  0.089270  0.388889   \n",
       "\n",
       "          att8      att9  label  \n",
       "0     0.746875  0.737113      1  \n",
       "1     0.746875  0.716495      1  \n",
       "2     0.912500  0.871134      1  \n",
       "3     0.746875  0.716495      1  \n",
       "4     0.912500  0.865979      1  \n",
       "...        ...       ...    ...  \n",
       "1008  0.990625  0.994845      0  \n",
       "1009  0.728125  0.685567      0  \n",
       "1010  0.746875  0.752577      0  \n",
       "1011  0.721875  0.680412      0  \n",
       "1012  0.684375  0.680412      0  \n",
       "\n",
       "[1013 rows x 10 columns]"
      ]
     },
     "execution_count": 14,
     "metadata": {},
     "output_type": "execute_result"
    }
   ],
   "source": [
    "X_train = pd.read_csv('./data/tabular/shuttle_16.csv', sep = ',')\n",
    "X_test = pd.read_csv('./data/tabular/shuttle_16.csv', sep = ',')\n",
    "X_test"
   ]
  },
  {
   "cell_type": "markdown",
   "id": "0f506ea2",
   "metadata": {},
   "source": [
    "# DIF"
   ]
  },
  {
   "cell_type": "code",
   "execution_count": 22,
   "id": "f93e4bc1",
   "metadata": {},
   "outputs": [
    {
     "name": "stdout",
     "output_type": "stream",
     "text": [
      "network additional parameters: {'n_hidden': [500, 100], 'n_emb': 20, 'skip_connection': None, 'dropout': None, 'activation': 'tanh', 'be_size': 5}\n"
     ]
    }
   ],
   "source": [
    "model_configs = {'n_ensemble':5, 'n_estimators':6, 'device':'cpu', 'data_type':'ts'}\n",
    "model = DIF(**model_configs)\n",
    "model.fit(X_train)\n",
    "score = model.decision_function(X_test)"
   ]
  },
  {
   "cell_type": "code",
   "execution_count": 23,
   "id": "2a39c606",
   "metadata": {},
   "outputs": [
    {
     "data": {
      "text/plain": [
       "array([0.45497014, 0.45661589, 0.4549031 , ..., 0.40227687, 0.40166728,\n",
       "       0.48162358])"
      ]
     },
     "execution_count": 23,
     "metadata": {},
     "output_type": "execute_result"
    }
   ],
   "source": [
    "score"
   ]
  },
  {
   "cell_type": "code",
   "execution_count": null,
   "id": "f56d99fc",
   "metadata": {},
   "outputs": [],
   "source": []
  }
 ],
 "metadata": {
  "kernelspec": {
   "display_name": "Python 3 (ipykernel)",
   "language": "python",
   "name": "python3"
  },
  "language_info": {
   "codemirror_mode": {
    "name": "ipython",
    "version": 3
   },
   "file_extension": ".py",
   "mimetype": "text/x-python",
   "name": "python",
   "nbconvert_exporter": "python",
   "pygments_lexer": "ipython3",
   "version": "3.9.13"
  }
 },
 "nbformat": 4,
 "nbformat_minor": 5
}
